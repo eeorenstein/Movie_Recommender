{
 "cells": [
  {
   "cell_type": "code",
   "execution_count": 5,
   "metadata": {},
   "outputs": [],
   "source": [
    "import pandas as pd"
   ]
  },
  {
   "cell_type": "code",
   "execution_count": 6,
   "metadata": {},
   "outputs": [],
   "source": [
    "#Read in ratings data\n",
    "\n",
    "ratings = pd.read_csv('~/Movie_Recommender/ratings.csv')"
   ]
  },
  {
   "cell_type": "code",
   "execution_count": 7,
   "metadata": {},
   "outputs": [
    {
     "name": "stdout",
     "output_type": "stream",
     "text": [
      "{'rmse': 0.8682200430401187}\n",
      "{'rmse': {'n_factors': 140, 'n_epochs': 20, 'lr_all': 0.01, 'reg_all': 0.1}}\n"
     ]
    }
   ],
   "source": [
    "#Hyperparameter search for SVD recommender\n",
    "\n",
    "from surprise import accuracy, Dataset, SVD, KNNBasic, Reader\n",
    "from surprise.model_selection import train_test_split, GridSearchCV\n",
    "\n",
    "#Format the data for surprise library\n",
    "reader = Reader(rating_scale=(0.5, 5))\n",
    "data = Dataset.load_from_df(ratings[[\"userId\", \"movieId\", \"rating\"]], reader=reader)\n",
    "\n",
    "#Grid search cross-validation for optimal hyperparameters\n",
    "param_grid = {\"n_factors\": [20, 60, 100, 140], \"n_epochs\": [5, 10, 20], \"lr_all\": [0.005, 0.01], \"reg_all\": [0.1, 0.3, 0.6]}\n",
    "gscv = GridSearchCV(SVD, param_grid, measures=[\"rmse\"], cv=3)\n",
    "gscv.fit(data)\n",
    "\n",
    "#Best CV score and optimal hyperparameters\n",
    "print(gscv.best_score)\n",
    "print(gscv.best_params)"
   ]
  },
  {
   "cell_type": "code",
   "execution_count": 8,
   "metadata": {},
   "outputs": [
    {
     "data": {
      "text/plain": [
       "['SVD.joblib']"
      ]
     },
     "execution_count": 8,
     "metadata": {},
     "output_type": "execute_result"
    }
   ],
   "source": [
    "#Save best model\n",
    "\n",
    "import joblib\n",
    "algo = gscv.best_estimator[\"rmse\"]\n",
    "joblib.dump(algo, 'SVD.joblib') "
   ]
  }
 ],
 "metadata": {
  "kernelspec": {
   "display_name": "base",
   "language": "python",
   "name": "python3"
  },
  "language_info": {
   "codemirror_mode": {
    "name": "ipython",
    "version": 3
   },
   "file_extension": ".py",
   "mimetype": "text/x-python",
   "name": "python",
   "nbconvert_exporter": "python",
   "pygments_lexer": "ipython3",
   "version": "3.7.4"
  },
  "orig_nbformat": 4
 },
 "nbformat": 4,
 "nbformat_minor": 2
}
